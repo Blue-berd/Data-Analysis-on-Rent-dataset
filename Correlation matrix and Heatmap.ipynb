{
 "cells": [
  {
   "cell_type": "markdown",
   "metadata": {},
   "source": [
    "# Correlation matrix and it's use cases."
   ]
  },
  {
   "cell_type": "markdown",
   "metadata": {},
   "source": [
    "A correlation matrix is a table showing correlation coefficients between variables. Each cell in the table shows the correlation between two variables. A correlation matrix is used to summarize data, as an input into a more advanced analysis, and as a diagnostic for advanced analyses.\n"
   ]
  },
  {
   "attachments": {
    "correlation-matrix.png": {
     "image/png": "[encoded data removed]"
    }
   },
   "cell_type": "markdown",
   "metadata": {},
   "source": [
    "![correlation-matrix.png](attachment:correlation-matrix.png)"
   ]
  },
  {
   "cell_type": "markdown",
   "metadata": {},
   "source": [
    "# Correlational analysis is required for:"
   ]
  },
  {
   "cell_type": "markdown",
   "metadata": {},
   "source": [
    "1)Testing whether certain data is consistent with hypothesis\n",
    "\n",
    "2)Predicting one variable on the basis of the knowledge of the other.\n",
    "\n",
    "3)Building psychological and educational models and theories\n",
    "\n",
    "4)Finding characteristics of psychological and educational tests (reliability, validity, item analysis, etc.)\n",
    "\n",
    "5) Grouping variables/measures for parsimonious interpretation of data.\n",
    "\n",
    "6) Carrying multivariate statistical tests (Hoteling’s T2; MANOVA, MANCOVA, Discriminant analysis, Factor Analysis).\n",
    "\n",
    "7) Isolating influence of variables."
   ]
  },
  {
   "cell_type": "markdown",
   "metadata": {},
   "source": [
    "# Two Types of Correlation:\n",
    "\n",
    "In a bivariate distribution, the correlation may be:\n",
    "\n",
    "### Positive, Negative and Zero Correlation-\n",
    "\n",
    "When the increase in one variable (X) is followed by a corresponding increase in the other variable (Y); the correlation is said to be positive correlation. The positive correlations range from 0 to +1; the upper limit i.e. +1 is the perfect positive coefficient of correlation.\n",
    "\n",
    "on the other hand, the increase in one variable (X) results in a corresponding decrease in the other variable (Y), the correlation is said to be negative correlation.\n",
    "\n",
    "Zero correlation means no relationship between the two variables X and Y; i.e. the change in one variable (X) is not associated with the change in the other variable (Y). For example, body weight and intelligence, shoe size and monthly salary; etc. The zero correlation is the mid-point of the range – 1 to + 1.\n",
    "\n",
    "### Linear or Curvilinear (Non-linear).\n",
    "\n",
    "Linear correlation is the ratio of change between the two variables either in the same direction or opposite direction and the graphical representation of the one variable with respect to other variable is straight line.\n",
    "The graphical representation of the two variables will be a curved line. Such a relationship between the two variables is termed as the curvilinear correlation."
   ]
  },
  {
   "cell_type": "markdown",
   "metadata": {},
   "source": [
    "# What is a Heat Map"
   ]
  },
  {
   "cell_type": "markdown",
   "metadata": {},
   "source": [
    "Heat maps are a great tool for visualizing complex statistical data.\n",
    "\n",
    "Doctors, engineers, marketers, sociologists, and researchers of every kind use heat maps to make data sets comprehensible and actionable.\n",
    "\n",
    "But what is a heat map? And how do you go about creating one?\n",
    "\n",
    "Let’s dive into exactly how you can get started with heat maps today."
   ]
  },
  {
   "cell_type": "markdown",
   "metadata": {},
   "source": [
    "A heat map is data analysis software that uses color the way a bar graph uses height and width: as a data visualization tool."
   ]
  },
  {
   "cell_type": "markdown",
   "metadata": {},
   "source": [
    "## When Should You Use a Heat Map?"
   ]
  },
  {
   "cell_type": "markdown",
   "metadata": {},
   "source": [
    "All the time!\n",
    "\n",
    "heat maps are so useful and so intuitive that you should pretty much have one on the go all the time and check it regularly.\n",
    "\n",
    "Here are a few scenarios where having heat map data handy can help you quickly make better marketing decisions:"
   ]
  },
  {
   "cell_type": "markdown",
   "metadata": {},
   "source": [
    "### Website redesign"
   ]
  },
  {
   "cell_type": "markdown",
   "metadata": {},
   "source": [
    "Redesigning a website can be an expensive, time-consuming undertaking. The last thing you want is a redesign that doesn’t work better than the original.\n",
    "\n",
    "Graphic designers and UX professionals can use heat mapping tools to understand how user behavior is impacted by graphic elements like color, contrast, and placement, ultimately driving a website to convert more effectively.\n",
    "Obviously, graphic designers already know all this stuff in principle. But different audiences behave differently on different websites.\n",
    "\n",
    "Running heat maps before designing and launching a website redesign could save you from missing the mark and winding up with a site that doesn’t convert, or that your particular audience finds tough to navigate."
   ]
  },
  {
   "cell_type": "markdown",
   "metadata": {},
   "source": [
    "## What You Can Learn from a Heat Map marketing"
   ]
  },
  {
   "cell_type": "markdown",
   "metadata": {},
   "source": [
    "Heat map data can help you to quickly see:\n",
    "\n",
    "Which headlines draw visitors in and make them click\n",
    "Which images attract attention and what people do about it — you’ll be surprised how many try to click an unlinked image\n",
    "What distracts visitors from your core content (Many first-time heat map users are shocked at how differently their users navigate the site compared with their expectations.)\n",
    "Whether visitors see your email opt-in box (Low opt-ins and click-throughs can be due to something as simple as opt-in boxes that don’t stand out. Heat maps make that clear and obvious so you can fix it.)"
   ]
  },
  {
   "cell_type": "markdown",
   "metadata": {},
   "source": [
    "## Heat Map Case Studies"
   ]
  },
  {
   "cell_type": "markdown",
   "metadata": {},
   "source": [
    "## Softmedia Boosts Conversions by 51 Percent\n",
    "Penny auction software provider Softmedia used heat maps to identify problem areas on their website.\n",
    "\n",
    "They successfully identified distractions that were preventing visitors from completing their desired action. After removing these, conversions increased by 51 percent.\n",
    "The left pair of heat map images shows that a “Do not click here” button was distracting visitors from clicking the “request a quote” button.\n",
    "\n",
    "The right pair of images shows visitor clicks on the contact page, where a video demo distracted visitors from contacting Softmedia.\n",
    "\n",
    "Removing both improved conversions for each page.\n",
    "## Conversion Rate Experts Improves Opt-Ins by 25.9 percent\n",
    "CRO agency Conversion Rate Experts wanted to improve opt-ins on a particular page.\n",
    "\n",
    "While it was performing adequately, the heat map data showed that some visitors were distracted by sidebar content and therefore never completed the opt-in box."
   ]
  },
  {
   "cell_type": "markdown",
   "metadata": {},
   "source": [
    "Scroll Maps quickly let you see if people are even looking at the content you’re most proud of. In this example, comparing the Scroll Maps before (left) and after (right), the images show that a much higher percentage of people are now watching the promoted content."
   ]
  },
  {
   "cell_type": "markdown",
   "metadata": {},
   "source": [
    "# Conclusion"
   ]
  },
  {
   "cell_type": "markdown",
   "metadata": {},
   "source": [
    "A heat map is the backbone of any CRO (conversion rate optimization) strategy. It’s also a highly underrated tool for how powerful it is.\n",
    "\n",
    "Heat maps give you a clear indication of what visitors really do on your site. You can quickly and easily find out if anyone even sees your copy and whether people are clicking on your CTA or on images and words instead.\n",
    "\n",
    "You can also see where your visitors are coming from, keep an eye on your pageview-to-click conversion rates, and much more.\n",
    "\n",
    "Instead of having to deduce what’s going on from numbers like bounce rate and time spent on page, or tracking goal conversions in GA, heat maps help you build up a more sophisticated picture from knowing which elements are clicked or ignored.\n",
    "\n",
    "We’ve seen how heat maps can be used to understand conversion behavior and optimize your sales funnel.\n",
    "\n",
    "Using a simple heat map lets you see if visitors are clicking on your conversion elements, and if not, what they’re clicking on instead.\n",
    "\n",
    "It’s almost always something unexpected.\n",
    "\n",
    "And it lets you answer a question no amount of bounce stats can: why are people leaving your site?\n",
    "\n",
    "Based on that understanding of real, rather than imagined, user behavior, it’s possible to come up with better design and copy and generate much higher conversions.\n",
    "\n",
    "Data from Confetti and Scroll Maps lets you identify user behavior in a more sophisticated way while keeping heat map analysis as intuitive as looking at the screen.\n",
    "\n",
    "Cross-referencing Overlay, List reports and User Session Recordings lets you see where attention is going and exactly who is clicking where.\n",
    "\n",
    "Segmenting traffic by activity and source, and understanding it in terms of the number of visitors who actually viewed that part of the page, can save you from “mis-optimizing” the wrong parts of the page. It can also keep your content game strong!\n",
    "\n",
    "It’s tough to beat this simple, versatile tool for optimizing pages or whole websites."
   ]
  },
  {
   "cell_type": "code",
   "execution_count": null,
   "metadata": {},
   "outputs": [],
   "source": []
  }
 ],
 "metadata": {
  "kernelspec": {
   "display_name": "Python 3",
   "language": "python",
   "name": "python3"
  },
  "language_info": {
   "codemirror_mode": {
    "name": "ipython",
    "version": 3
   },
   "file_extension": ".py",
   "mimetype": "text/x-python",
   "name": "python",
   "nbconvert_exporter": "python",
   "pygments_lexer": "ipython3",
   "version": "3.8.3"
  }
 },
 "nbformat": 4,
 "nbformat_minor": 4
}
